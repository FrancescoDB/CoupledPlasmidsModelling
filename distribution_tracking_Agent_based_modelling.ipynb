{
  "cells": [
    {
      "cell_type": "markdown",
      "metadata": {
        "id": "LCJNlP2cx4Er"
      },
      "source": [
        "In this version I have turned Kb and Kc into arrays of precalculated values to improve run time"
      ]
    },
    {
      "cell_type": "markdown",
      "metadata": {
        "id": "_gv5fGC4r3ou"
      },
      "source": [
        "# Installs and imports"
      ]
    },
    {
      "cell_type": "code",
      "execution_count": null,
      "metadata": {
        "colab": {
          "base_uri": "https://localhost:8080/"
        },
        "id": "p_oU0fspqW0j",
        "outputId": "5259cad7-75a4-4a58-f4ff-1796da0618b2"
      },
      "outputs": [
        {
          "output_type": "stream",
          "name": "stdout",
          "text": [
            "Looking in indexes: https://pypi.org/simple, https://us-python.pkg.dev/colab-wheels/public/simple/\n",
            "Collecting agentpy\n",
            "  Downloading agentpy-0.1.5-py3-none-any.whl (53 kB)\n",
            "\u001b[2K     \u001b[90m━━━━━━━━━━━━━━━━━━━━━━━━━━━━━━━━━━━━━━━━\u001b[0m \u001b[32m53.9/53.9 KB\u001b[0m \u001b[31m1.6 MB/s\u001b[0m eta \u001b[36m0:00:00\u001b[0m\n",
            "\u001b[?25hRequirement already satisfied: pandas>=1.1.3 in /usr/local/lib/python3.9/dist-packages (from agentpy) (1.4.4)\n",
            "Requirement already satisfied: networkx>=2.5 in /usr/local/lib/python3.9/dist-packages (from agentpy) (3.0)\n",
            "Requirement already satisfied: joblib>=1.1.0 in /usr/local/lib/python3.9/dist-packages (from agentpy) (1.1.1)\n",
            "Requirement already satisfied: numpy>=1.19 in /usr/local/lib/python3.9/dist-packages (from agentpy) (1.22.4)\n",
            "Collecting SALib>=1.3.7\n",
            "  Downloading salib-1.4.7-py3-none-any.whl (757 kB)\n",
            "\u001b[2K     \u001b[90m━━━━━━━━━━━━━━━━━━━━━━━━━━━━━━━━━━━━━━\u001b[0m \u001b[32m758.0/758.0 KB\u001b[0m \u001b[31m19.6 MB/s\u001b[0m eta \u001b[36m0:00:00\u001b[0m\n",
            "\u001b[?25hRequirement already satisfied: scipy>=1.5.2 in /usr/local/lib/python3.9/dist-packages (from agentpy) (1.10.1)\n",
            "Requirement already satisfied: matplotlib>=3.3.3 in /usr/local/lib/python3.9/dist-packages (from agentpy) (3.5.3)\n",
            "Requirement already satisfied: python-dateutil>=2.7 in /usr/local/lib/python3.9/dist-packages (from matplotlib>=3.3.3->agentpy) (2.8.2)\n",
            "Requirement already satisfied: fonttools>=4.22.0 in /usr/local/lib/python3.9/dist-packages (from matplotlib>=3.3.3->agentpy) (4.39.0)\n",
            "Requirement already satisfied: kiwisolver>=1.0.1 in /usr/local/lib/python3.9/dist-packages (from matplotlib>=3.3.3->agentpy) (1.4.4)\n",
            "Requirement already satisfied: pyparsing>=2.2.1 in /usr/local/lib/python3.9/dist-packages (from matplotlib>=3.3.3->agentpy) (3.0.9)\n",
            "Requirement already satisfied: packaging>=20.0 in /usr/local/lib/python3.9/dist-packages (from matplotlib>=3.3.3->agentpy) (23.0)\n",
            "Requirement already satisfied: pillow>=6.2.0 in /usr/local/lib/python3.9/dist-packages (from matplotlib>=3.3.3->agentpy) (8.4.0)\n",
            "Requirement already satisfied: cycler>=0.10 in /usr/local/lib/python3.9/dist-packages (from matplotlib>=3.3.3->agentpy) (0.11.0)\n",
            "Requirement already satisfied: pytz>=2020.1 in /usr/local/lib/python3.9/dist-packages (from pandas>=1.1.3->agentpy) (2022.7.1)\n",
            "Collecting multiprocess\n",
            "  Downloading multiprocess-0.70.14-py39-none-any.whl (132 kB)\n",
            "\u001b[2K     \u001b[90m━━━━━━━━━━━━━━━━━━━━━━━━━━━━━━━━━━━━━━━\u001b[0m \u001b[32m132.9/132.9 KB\u001b[0m \u001b[31m8.2 MB/s\u001b[0m eta \u001b[36m0:00:00\u001b[0m\n",
            "\u001b[?25hRequirement already satisfied: six>=1.5 in /usr/local/lib/python3.9/dist-packages (from python-dateutil>=2.7->matplotlib>=3.3.3->agentpy) (1.15.0)\n",
            "Collecting dill>=0.3.6\n",
            "  Downloading dill-0.3.6-py3-none-any.whl (110 kB)\n",
            "\u001b[2K     \u001b[90m━━━━━━━━━━━━━━━━━━━━━━━━━━━━━━━━━━━━━━━\u001b[0m \u001b[32m110.5/110.5 KB\u001b[0m \u001b[31m6.1 MB/s\u001b[0m eta \u001b[36m0:00:00\u001b[0m\n",
            "\u001b[?25hInstalling collected packages: dill, multiprocess, SALib, agentpy\n",
            "Successfully installed SALib-1.4.7 agentpy-0.1.5 dill-0.3.6 multiprocess-0.70.14\n"
          ]
        }
      ],
      "source": [
        "!pip install agentpy"
      ]
    },
    {
      "cell_type": "code",
      "execution_count": null,
      "metadata": {
        "id": "dfrJx4yLtv62"
      },
      "outputs": [],
      "source": [
        "import agentpy as ap\n",
        "import numpy as np\n",
        "from matplotlib import pyplot as plt\n",
        "import matplotlib\n",
        "import IPython"
      ]
    },
    {
      "cell_type": "markdown",
      "metadata": {
        "id": "2QNJPlR5r7GE"
      },
      "source": [
        "# Setup"
      ]
    },
    {
      "cell_type": "markdown",
      "source": [
        "### Initialise seed"
      ],
      "metadata": {
        "id": "XnmniczANWwQ"
      }
    },
    {
      "cell_type": "code",
      "source": [
        "seed = 42\n",
        "#print(seed)"
      ],
      "metadata": {
        "id": "PDGaFCSHNU4T"
      },
      "execution_count": null,
      "outputs": []
    },
    {
      "cell_type": "markdown",
      "source": [
        "### Helper functions"
      ],
      "metadata": {
        "id": "_zOKTNTTNfZh"
      }
    },
    {
      "cell_type": "code",
      "execution_count": null,
      "metadata": {
        "id": "8lY6iKLs6Zj0"
      },
      "outputs": [],
      "source": [
        "def A(p,K,n):\n",
        "    return p**n/(p**n+K**n)\n",
        "\n",
        "def R(p,K,n):\n",
        "    return K**n/(p**n+K**n)\n",
        "\n",
        "@np.vectorize\n",
        "def constrain(x):\n",
        "    return np.max([np.min([x,1.0]),0.0])"
      ]
    },
    {
      "cell_type": "markdown",
      "metadata": {
        "id": "L5uVhPDNr_IR"
      },
      "source": [
        "## Defining how $K_c$ varies across space"
      ]
    },
    {
      "cell_type": "code",
      "execution_count": null,
      "metadata": {
        "id": "ugTw56uqjvWA"
      },
      "outputs": [],
      "source": [
        "space_shape = np.array([300,100],dtype=np.float64)\n",
        "bin_width = 10\n",
        "P1_cost_centre = (0.1*space_shape[0],0.5*space_shape[1])\n",
        "P2_cost_centre = (0.9*space_shape[0],0.5*space_shape[1])\n",
        "Kc_functions = [lambda x,y: 10+2000*np.exp(-0.00005*((x-P1_cost_centre[0])**2+(y-P1_cost_centre[1])**2)),\n",
        "                lambda x,y: 10+2000*np.exp(-0.00005*((x-P2_cost_centre[0])**2+(y-P2_cost_centre[1])**2))]\n",
        "Kb_functions = [np.vectorize(lambda x,y: 0.5),\n",
        "               np.vectorize(lambda x,y: 0.5)]"
      ]
    },
    {
      "cell_type": "code",
      "execution_count": null,
      "metadata": {
        "id": "TYH0cKs53DLn"
      },
      "outputs": [],
      "source": [
        "grid_resolution = np.array([3000,1000])\n",
        "x_grid,y_grid = np.meshgrid(np.linspace(0,space_shape[0],grid_resolution[0]),\n",
        "                            np.linspace(0,space_shape[1],grid_resolution[1]))\n",
        "Kb = [f(x_grid,y_grid) for f in Kb_functions] # list of np arrays\n",
        "Kc = [f(x_grid,y_grid) for f in Kc_functions]"
      ]
    },
    {
      "cell_type": "code",
      "execution_count": null,
      "metadata": {
        "colab": {
          "base_uri": "https://localhost:8080/"
        },
        "id": "UIceTzAF4L8i",
        "outputId": "92efc3b3-ccc4-4b04-e8ac-f4e84c907134"
      },
      "outputs": [
        {
          "output_type": "display_data",
          "data": {
            "text/plain": [
              "<Figure size 432x360 with 3 Axes>"
            ],
            "image/png": "[encoded data removed]"
          },
          "metadata": {
            "needs_background": "light"
          }
        }
      ],
      "source": [
        "# Plotting the Kc distributions\n",
        "# Create the figure and axis objects\n",
        "fig, ax = plt.subplots(nrows=2, figsize=(6, 5), sharex=True, sharey=False)\n",
        "\n",
        "im1 = ax[0].pcolormesh(x_grid, y_grid, Kc[0])\n",
        "ax[0].set_title(\"Plasmid 1 $K_c$ function\")\n",
        "im2 = ax[1].pcolormesh(x_grid, y_grid, Kc[1])\n",
        "ax[1].set_title(\"Plasmid 2 $K_c$ function\")\n",
        "\n",
        "# Add colorbar and move things around\n",
        "fig.subplots_adjust(right=0.8)\n",
        "cbar_ax = fig.add_axes([0.85, 0.15, 0.05, 0.7])\n",
        "fig.colorbar(im2, cax=cbar_ax, orientation='vertical', shrink=0.6, pad=0.02)\n",
        "\n",
        "# Set the labels for the x and y axes\n",
        "ax[1].set_xlabel('$x$')\n",
        "ax[1].set_ylabel('$y$')\n",
        "ax[0].set_ylabel('$y$')\n",
        "\n",
        "# set aspect ratio\n",
        "ax[0].set_aspect('equal')\n",
        "ax[1].set_aspect('equal')\n",
        "\n",
        "#plt.savefig('Kc plots.pdf')\n",
        "plt.show()"
      ]
    },
    {
      "cell_type": "markdown",
      "metadata": {
        "id": "BNtxqonxsGl-"
      },
      "source": [
        "## Defining model parameters"
      ]
    },
    {
      "cell_type": "code",
      "execution_count": null,
      "metadata": {
        "id": "_vfZDdUXtb_f"
      },
      "outputs": [],
      "source": [
        "universal_model_params = dict( # parameters common to other implementations of the plasmid cost model written with dict() function and equals signs for easy copy pasting\n",
        "                              Kd = np.array([1000,1000],#,100],\n",
        "                                            dtype=np.float64),\n",
        "                              Kb = np.array(Kb).transpose(1,2,0), # rearrange to a grid of (Kb1,Kb2) pairs\n",
        "                              Kc = np.array(Kc).transpose(1,2,0),\n",
        "                              g = 1,\n",
        "                              d = 0.02,\n",
        "                              r2 = 1,\n",
        "                              C = 10000,\n",
        "                              S = 10000,\n",
        "                              dup_ori = True,\n",
        "                              ptot = 50\n",
        "                              ) \n",
        "params = universal_model_params | { # merge universal parameters dictionary with parameters specific to the agent based model\n",
        "         \"steps\":3000,# steps is a parameter used by AgentPy to determine how long the simulation should run\n",
        "         \"population\":1000,\n",
        "         \"num_plasmids\":2,\n",
        "         \"diffusion\":1.5,\n",
        "         \"colour_mode\":\"plasmids\",\n",
        "         \"num_dimensions\":2,\n",
        "         \"space_shape\":space_shape,\n",
        "         \"bin_width\":bin_width,\n",
        "         \"grid_resolution\":grid_resolution}"
      ]
    },
    {
      "cell_type": "markdown",
      "metadata": {
        "id": "8PD0SI4WsMZA"
      },
      "source": [
        "## Defining the model"
      ]
    },
    {
      "cell_type": "code",
      "execution_count": null,
      "metadata": {
        "id": "wdSXdatcqctE"
      },
      "outputs": [],
      "source": [
        "class Cell(ap.Agent):\n",
        "    def setup(self):\n",
        "        num_plasmids = self.model.p.num_plasmids\n",
        "        self.plasmid_CNs = 10*np.ones(self.model.p.num_plasmids,dtype=int) # 1 x num_plasmids array\n",
        "        if self.model.p.colour_mode==\"lineage_tracing\":\n",
        "            self.colour = np.random.rand(3)\n",
        "        elif self.model.p.colour_mode==\"plasmids\":\n",
        "            self.colour = constrain(self.plasmid_CNs/self.model.p.ptot)\n",
        "            if num_plasmids < 3:\n",
        "                self.colour = np.append(self.colour,0.5*np.ones(shape=3-num_plasmids))\n",
        "\n",
        "    def setup_pos(self,space):\n",
        "        self.space = space\n",
        "        self.pos = space.positions[self]\n",
        "        pos_grid_index = np.floor(self.pos/self.model.p.grid_resolution).astype(int)\n",
        "        self.Kb = self.model.p.Kb[pos_grid_index]\n",
        "        self.Kc = self.model.p.Kc[pos_grid_index]\n",
        "\n",
        "    def update_plasmids(self):# probability plasmids are replicated when all same ori  \n",
        "        num_plasmids = self.model.p.num_plasmids\n",
        "        ptot = self.model.p.ptot\n",
        "        r2 = self.model.p.r2\n",
        "        if self.model.p.dup_ori:\n",
        "            plasmid_replication_probs = np.ones(num_plasmids)*r2*(1-(np.sum(self.plasmid_CNs))/ptot)\n",
        "        else: #  probability plasmids are replicated given different oris\n",
        "            plasmid_replication_probs=r2*(1-self.plasmid_CNs/(ptot/num_plasmids))\n",
        "         \n",
        "        plasmid_replication_probs = constrain(plasmid_replication_probs) # constrain plasmid_replication_probs between 0 and 1\n",
        "        if np.any(self.plasmid_CNs <0): print(self.plasmid_CNs)\n",
        "        self.plasmid_CNs +=np.random.binomial(self.plasmid_CNs, plasmid_replication_probs); # increase the number of plasmids by the number of replicating plasmids, sampled from a binomial distribution\n",
        "        if self.model.p.colour_mode==\"plasmids\":\n",
        "            self.colour = constrain(self.plasmid_CNs/self.model.p.ptot)\n",
        "            if num_plasmids < 3:\n",
        "                self.colour = np.append(self.colour,0.5*np.ones(shape=3-num_plasmids))\n",
        "\n",
        "    def update_death(self):\n",
        "        S = self.model.p.S\n",
        "        d = self.model.p.d\n",
        "        Kd = self.model.p.Kd\n",
        "        death_prob = A(len(self.model.agents),S,2)+d*np.sum(A(self.plasmid_CNs,Kd,4))\n",
        "        if np.any(self.plasmid_CNs==0): \n",
        "            death_prob=1.0 # cell dies if it loses any plasmid\n",
        "        if np.random.rand() < death_prob:\n",
        "            self.model.agents.remove(self)\n",
        "            self.space.remove_agents([self])\n",
        "\n",
        "    def update_division(self):\n",
        "        g = self.model.p.g\n",
        "        C = self.model.p.C\n",
        "        Kb = self.Kb\n",
        "        Kc = self.Kc\n",
        "        num_plasmids = self.model.p.num_plasmids\n",
        "        num_dimensions = self.model.p.num_dimensions\n",
        "\n",
        "        division_prob = constrain(g*(1-len(self.model.agents)/C)*np.prod(A(self.plasmid_CNs,Kb,4))*np.prod(R(self.plasmid_CNs,Kc,4)))\n",
        "        if np.random.rand() < division_prob:\n",
        "            daughter_plasmid_CNs = np.random.binomial(self.plasmid_CNs,0.5)\n",
        "            daughter_cell = Cell(self.model)\n",
        "            self.model.agents.append(daughter_cell)\n",
        "            daughter_cell.plasmid_CNs = daughter_plasmid_CNs\n",
        "            if self.model.p.colour_mode==\"lineage_tracing\":\n",
        "                daughter_cell.colour = self.colour\n",
        "            self.plasmid_CNs -= daughter_plasmid_CNs\n",
        "            self.space.add_agents([daughter_cell])\n",
        "            daughter_cell.setup_pos(self.space)\n",
        "            daughter_cell.space.move_to(daughter_cell,self.pos + np.random.normal(0,0.1,size=num_dimensions))\n",
        "            if self.model.p.colour_mode==\"plasmids\":\n",
        "                self.colour = constrain(self.plasmid_CNs/self.model.p.ptot)\n",
        "                if num_plasmids < 3:\n",
        "                    self.colour = np.append(self.colour,0.5*np.ones(shape=3-num_plasmids))\n",
        "\n",
        "    def update_pos(self):\n",
        "        self.space.move_by(self,np.random.normal(0,self.model.p.diffusion,size=self.model.p.num_dimensions))\n",
        "        pos_grid_index = np.floor(self.pos/self.model.p.grid_resolution).astype(int)\n",
        "        self.Kb = self.model.p.Kb[pos_grid_index]\n",
        "        self.Kc = self.model.p.Kc[pos_grid_index]\n"
      ]
    },
    {
      "cell_type": "markdown",
      "metadata": {
        "id": "yeSutF372SOD"
      },
      "source": [
        "`self.p` is the set of parameters associated with the Model object"
      ]
    },
    {
      "cell_type": "code",
      "execution_count": null,
      "metadata": {
        "id": "d0sPyc3nvPh3"
      },
      "outputs": [],
      "source": [
        "class CellsModel(ap.Model):\n",
        "    \"\"\"\n",
        "    Spatial stochastic model of plasmid buffering\n",
        "    \"\"\"\n",
        "    def setup(self):\n",
        "        self.space = ap.Space(self,shape=self.p.space_shape)\n",
        "        self.agents = ap.AgentList(self,self.p.population, Cell)\n",
        "        self.space.add_agents(self.agents, random=True)\n",
        "        self.agents.setup_pos(self.space)\n",
        "    \n",
        "    def step(self):\n",
        "        self.agents.update_plasmids()\n",
        "        self.agents.update_death()\n",
        "        if len(self.agents)==0:\n",
        "            self.stop()\n",
        "        self.agents.update_division()\n",
        "        self.agents.update_pos()\n",
        "    \n",
        "    def update(self):\n",
        "        \"\"\" Record variables after setup and each step. \"\"\"\n",
        "        self[\"N\"]=len(self.agents)\n",
        "        self.record(\"N\")\n",
        "        try:self[\"P1\"]=sum([agent.plasmid_CNs[0] for agent in self.agents])/len(self.agents)\n",
        "        except ZeroDivisionError: print(self.model.t)\n",
        "        try:self[\"P2\"]=sum([agent.plasmid_CNs[1] for agent in self.agents])/len(self.agents)\n",
        "        except ZeroDivisionError: pass\n",
        "        \n",
        "        self.record(\"N\")\n",
        "        self.record(\"P1\")\n",
        "        self.record(\"P2\")\n",
        "\n",
        "        #self[\"P1_dist\"]=[agent.plasmid_CNs[1] for agent in self.agents]\n",
        "        #self.record(\"P1_dist\")\n",
        "\n",
        "        # Spatial distribution analysis\n",
        "        \"\"\"\n",
        "        x_bins = [(lower_lim,lower_lim + self.p.bin_width) for lower_lim in np.arange(0,self.p.space_shape[0],self.p.bin_width)]\n",
        "        for i in range(len(x_bins)):\n",
        "            lower_lim,upper_lim = x_bins[i]\n",
        "            # np.nanmean is used to ignore NaN values arising from division by 0 when the number of P2 is 0. A sufficiently large bin_width should be used to minimise this\n",
        "            self[f\"P2P1ratio_bin{i}\"]=np.nanmean([agent.plasmid_CNs[1]/agent.plasmid_CNs[0] for agent in self.agents \n",
        "                                                                 if agent.pos[0] > lower_lim and agent.pos[0] < upper_lim])\n",
        "            self.record(f\"P2P1ratio_bin{i}\")\n",
        "        #\"\"\""
      ]
    },
    {
      "cell_type": "markdown",
      "metadata": {
        "id": "nJKRjHN8sQB_"
      },
      "source": [
        "# Running the simulation"
      ]
    },
    {
      "cell_type": "code",
      "execution_count": null,
      "metadata": {
        "colab": {
          "base_uri": "https://localhost:8080/"
        },
        "id": "Gow8MfYtYZLK",
        "outputId": "c34e20a7-3796-4be8-deef-3391efab8f5e"
      },
      "outputs": [
        {
          "metadata": {
            "tags": null
          },
          "name": "stderr",
          "output_type": "stream",
          "text": [
            "<ipython-input-10-7c949f105a6e>:41: RuntimeWarning: divide by zero encountered in long_scalars\n",
            "  self[f\"P2P1ratio_bin{i}\"]=np.nanmean([agent.plasmid_CNs[1]/agent.plasmid_CNs[0] for agent in self.agents\n"
          ]
        },
        {
          "metadata": {
            "tags": null
          },
          "name": "stdout",
          "output_type": "stream",
          "text": [
            "Completed: 705 steps"
          ]
        },
        {
          "metadata": {
            "tags": null
          },
          "name": "stderr",
          "output_type": "stream",
          "text": [
            "<ipython-input-10-7c949f105a6e>:41: RuntimeWarning: Mean of empty slice\n",
            "  self[f\"P2P1ratio_bin{i}\"]=np.nanmean([agent.plasmid_CNs[1]/agent.plasmid_CNs[0] for agent in self.agents\n"
          ]
        },
        {
          "output_type": "stream",
          "name": "stdout",
          "text": [
            "Completed: 3000 steps\n",
            "Run time: 0:18:44.493327\n",
            "Simulation finished\n"
          ]
        }
      ],
      "source": [
        "params[\"dup_ori\"] = True\n",
        "m = CellsModel(params)\n",
        "results = m.run(seed=seed)"
      ]
    },
    {
      "cell_type": "code",
      "source": [
        "results.variables.CellsModel"
      ],
      "metadata": {
        "colab": {
          "base_uri": "https://localhost:8080/",
          "height": 519
        },
        "id": "7GSTfpLICswX",
        "outputId": "d5f1f4a8-4784-45b5-d10d-fe4fd9df3251"
      },
      "execution_count": null,
      "outputs": [
        {
          "output_type": "execute_result",
          "data": {
            "text/plain": [
              "         N         P1         P2  P2P1ratio_bin0  P2P1ratio_bin1  \\\n",
              "t                                                                  \n",
              "0     1000  10.000000  10.000000        1.000000        1.000000   \n",
              "1     1068  14.847378  14.861423        1.046191        0.992187   \n",
              "2     1096  19.667883  19.665146        1.083513        1.000498   \n",
              "3     1108  22.254513  22.208484        1.026748        1.046055   \n",
              "4     1116  23.058244  22.947133        1.005810        1.032721   \n",
              "...    ...        ...        ...             ...             ...   \n",
              "2996   130  25.176923  25.869231        1.528661        1.149253   \n",
              "2997   130  25.176923  25.869231        1.502932        1.245718   \n",
              "2998   130  25.176923  25.869231        1.502932        1.182148   \n",
              "2999   130  25.176923  25.869231        1.502932        1.182148   \n",
              "3000   130  25.176923  25.869231        1.528661        1.149253   \n",
              "\n",
              "      P2P1ratio_bin2  P2P1ratio_bin3  P2P1ratio_bin4  P2P1ratio_bin5  \\\n",
              "t                                                                      \n",
              "0           1.000000        1.000000        1.000000        1.000000   \n",
              "1           1.014632        1.030615        0.987517        0.999753   \n",
              "2           1.038514        1.131269        1.046291        1.008895   \n",
              "3           1.117614        1.164504        1.023936        1.017302   \n",
              "4           1.097116        1.165672        0.994302        1.052836   \n",
              "...              ...             ...             ...             ...   \n",
              "2996        0.853333        0.986214        1.148580        0.960381   \n",
              "2997        1.003671        0.888395        1.101820        0.960381   \n",
              "2998        1.127754        0.906681        1.132269        0.929643   \n",
              "2999        1.127754        0.888395        1.102653        0.959714   \n",
              "3000        1.003671        0.888395        1.098123        0.929643   \n",
              "\n",
              "      P2P1ratio_bin6  ...  P2P1ratio_bin20  P2P1ratio_bin21  P2P1ratio_bin22  \\\n",
              "t                     ...                                                      \n",
              "0           1.000000  ...         1.000000         1.000000         1.000000   \n",
              "1           0.944183  ...         0.984948         1.094362              inf   \n",
              "2           0.938710  ...         0.972265         1.053316         1.144209   \n",
              "3           0.950011  ...         1.065134         1.100720         1.149905   \n",
              "4           0.916902  ...         1.044188         1.065928         1.158632   \n",
              "...              ...  ...              ...              ...              ...   \n",
              "2996        1.139258  ...         0.315789         1.055482         0.946116   \n",
              "2997        1.139258  ...         0.591228         1.055482         0.946116   \n",
              "2998        1.193304  ...         0.848698         0.978443         0.889167   \n",
              "2999        1.193304  ...         0.848698         0.929421         0.928482   \n",
              "3000        1.052985  ...         0.848698         0.978443         0.895957   \n",
              "\n",
              "      P2P1ratio_bin23  P2P1ratio_bin24  P2P1ratio_bin25  P2P1ratio_bin26  \\\n",
              "t                                                                          \n",
              "0            1.000000         1.000000         1.000000         1.000000   \n",
              "1            0.999087         1.006308         0.968553         1.122589   \n",
              "2            0.999194         1.037387         1.007457         1.162421   \n",
              "3            1.048546         1.027165         1.085390         1.439631   \n",
              "4            1.070297         1.029004         1.066573         1.583991   \n",
              "...               ...              ...              ...              ...   \n",
              "2996         1.006551         1.275433         0.651822         1.208333   \n",
              "2997         1.066782         1.117865         0.651822         1.208333   \n",
              "2998         1.082087         1.066244         0.858790         1.208333   \n",
              "2999         1.151106         1.066244         1.117133         0.775219   \n",
              "3000         1.151106         1.066244         0.858790         1.208333   \n",
              "\n",
              "      P2P1ratio_bin27  P2P1ratio_bin28  P2P1ratio_bin29  \n",
              "t                                                        \n",
              "0            1.000000         1.000000         1.000000  \n",
              "1                 inf         1.011270         1.036864  \n",
              "2            1.296599         1.068780         1.062732  \n",
              "3            1.246540         0.953000         1.289691  \n",
              "4            1.339939         1.030861         1.390755  \n",
              "...               ...              ...              ...  \n",
              "2996         0.856862         1.166763         1.142641  \n",
              "2997         0.856862         1.246782         1.067447  \n",
              "2998         0.840849         1.198385         0.957649  \n",
              "2999         0.840849         1.198385         0.957649  \n",
              "3000         0.840849         1.150417         1.053140  \n",
              "\n",
              "[3001 rows x 33 columns]"
            ],
            "text/html": [
              "\n",
              "  <div id=\"df-ee86e7ad-bdf3-4ea8-bdcb-5625eceb40db\">\n",
              "    <div class=\"colab-df-container\">\n",
              "      <div>\n",
              "<style scoped>\n",
              "    .dataframe tbody tr th:only-of-type {\n",
              "        vertical-align: middle;\n",
              "    }\n",
              "\n",
              "    .dataframe tbody tr th {\n",
              "        vertical-align: top;\n",
              "    }\n",
              "\n",
              "    .dataframe thead th {\n",
              "        text-align: right;\n",
              "    }\n",
              "</style>\n",
              "<table border=\"1\" class=\"dataframe\">\n",
              "  <thead>\n",
              "    <tr style=\"text-align: right;\">\n",
              "      <th></th>\n",
              "      <th>N</th>\n",
              "      <th>P1</th>\n",
              "      <th>P2</th>\n",
              "      <th>P2P1ratio_bin0</th>\n",
              "      <th>P2P1ratio_bin1</th>\n",
              "      <th>P2P1ratio_bin2</th>\n",
              "      <th>P2P1ratio_bin3</th>\n",
              "      <th>P2P1ratio_bin4</th>\n",
              "      <th>P2P1ratio_bin5</th>\n",
              "      <th>P2P1ratio_bin6</th>\n",
              "      <th>...</th>\n",
              "      <th>P2P1ratio_bin20</th>\n",
              "      <th>P2P1ratio_bin21</th>\n",
              "      <th>P2P1ratio_bin22</th>\n",
              "      <th>P2P1ratio_bin23</th>\n",
              "      <th>P2P1ratio_bin24</th>\n",
              "      <th>P2P1ratio_bin25</th>\n",
              "      <th>P2P1ratio_bin26</th>\n",
              "      <th>P2P1ratio_bin27</th>\n",
              "      <th>P2P1ratio_bin28</th>\n",
              "      <th>P2P1ratio_bin29</th>\n",
              "    </tr>\n",
              "    <tr>\n",
              "      <th>t</th>\n",
              "      <th></th>\n",
              "      <th></th>\n",
              "      <th></th>\n",
              "      <th></th>\n",
              "      <th></th>\n",
              "      <th></th>\n",
              "      <th></th>\n",
              "      <th></th>\n",
              "      <th></th>\n",
              "      <th></th>\n",
              "      <th></th>\n",
              "      <th></th>\n",
              "      <th></th>\n",
              "      <th></th>\n",
              "      <th></th>\n",
              "      <th></th>\n",
              "      <th></th>\n",
              "      <th></th>\n",
              "      <th></th>\n",
              "      <th></th>\n",
              "      <th></th>\n",
              "    </tr>\n",
              "  </thead>\n",
              "  <tbody>\n",
              "    <tr>\n",
              "      <th>0</th>\n",
              "      <td>1000</td>\n",
              "      <td>10.000000</td>\n",
              "      <td>10.000000</td>\n",
              "      <td>1.000000</td>\n",
              "      <td>1.000000</td>\n",
              "      <td>1.000000</td>\n",
              "      <td>1.000000</td>\n",
              "      <td>1.000000</td>\n",
              "      <td>1.000000</td>\n",
              "      <td>1.000000</td>\n",
              "      <td>...</td>\n",
              "      <td>1.000000</td>\n",
              "      <td>1.000000</td>\n",
              "      <td>1.000000</td>\n",
              "      <td>1.000000</td>\n",
              "      <td>1.000000</td>\n",
              "      <td>1.000000</td>\n",
              "      <td>1.000000</td>\n",
              "      <td>1.000000</td>\n",
              "      <td>1.000000</td>\n",
              "      <td>1.000000</td>\n",
              "    </tr>\n",
              "    <tr>\n",
              "      <th>1</th>\n",
              "      <td>1068</td>\n",
              "      <td>14.847378</td>\n",
              "      <td>14.861423</td>\n",
              "      <td>1.046191</td>\n",
              "      <td>0.992187</td>\n",
              "      <td>1.014632</td>\n",
              "      <td>1.030615</td>\n",
              "      <td>0.987517</td>\n",
              "      <td>0.999753</td>\n",
              "      <td>0.944183</td>\n",
              "      <td>...</td>\n",
              "      <td>0.984948</td>\n",
              "      <td>1.094362</td>\n",
              "      <td>inf</td>\n",
              "      <td>0.999087</td>\n",
              "      <td>1.006308</td>\n",
              "      <td>0.968553</td>\n",
              "      <td>1.122589</td>\n",
              "      <td>inf</td>\n",
              "      <td>1.011270</td>\n",
              "      <td>1.036864</td>\n",
              "    </tr>\n",
              "    <tr>\n",
              "      <th>2</th>\n",
              "      <td>1096</td>\n",
              "      <td>19.667883</td>\n",
              "      <td>19.665146</td>\n",
              "      <td>1.083513</td>\n",
              "      <td>1.000498</td>\n",
              "      <td>1.038514</td>\n",
              "      <td>1.131269</td>\n",
              "      <td>1.046291</td>\n",
              "      <td>1.008895</td>\n",
              "      <td>0.938710</td>\n",
              "      <td>...</td>\n",
              "      <td>0.972265</td>\n",
              "      <td>1.053316</td>\n",
              "      <td>1.144209</td>\n",
              "      <td>0.999194</td>\n",
              "      <td>1.037387</td>\n",
              "      <td>1.007457</td>\n",
              "      <td>1.162421</td>\n",
              "      <td>1.296599</td>\n",
              "      <td>1.068780</td>\n",
              "      <td>1.062732</td>\n",
              "    </tr>\n",
              "    <tr>\n",
              "      <th>3</th>\n",
              "      <td>1108</td>\n",
              "      <td>22.254513</td>\n",
              "      <td>22.208484</td>\n",
              "      <td>1.026748</td>\n",
              "      <td>1.046055</td>\n",
              "      <td>1.117614</td>\n",
              "      <td>1.164504</td>\n",
              "      <td>1.023936</td>\n",
              "      <td>1.017302</td>\n",
              "      <td>0.950011</td>\n",
              "      <td>...</td>\n",
              "      <td>1.065134</td>\n",
              "      <td>1.100720</td>\n",
              "      <td>1.149905</td>\n",
              "      <td>1.048546</td>\n",
              "      <td>1.027165</td>\n",
              "      <td>1.085390</td>\n",
              "      <td>1.439631</td>\n",
              "      <td>1.246540</td>\n",
              "      <td>0.953000</td>\n",
              "      <td>1.289691</td>\n",
              "    </tr>\n",
              "    <tr>\n",
              "      <th>4</th>\n",
              "      <td>1116</td>\n",
              "      <td>23.058244</td>\n",
              "      <td>22.947133</td>\n",
              "      <td>1.005810</td>\n",
              "      <td>1.032721</td>\n",
              "      <td>1.097116</td>\n",
              "      <td>1.165672</td>\n",
              "      <td>0.994302</td>\n",
              "      <td>1.052836</td>\n",
              "      <td>0.916902</td>\n",
              "      <td>...</td>\n",
              "      <td>1.044188</td>\n",
              "      <td>1.065928</td>\n",
              "      <td>1.158632</td>\n",
              "      <td>1.070297</td>\n",
              "      <td>1.029004</td>\n",
              "      <td>1.066573</td>\n",
              "      <td>1.583991</td>\n",
              "      <td>1.339939</td>\n",
              "      <td>1.030861</td>\n",
              "      <td>1.390755</td>\n",
              "    </tr>\n",
              "    <tr>\n",
              "      <th>...</th>\n",
              "      <td>...</td>\n",
              "      <td>...</td>\n",
              "      <td>...</td>\n",
              "      <td>...</td>\n",
              "      <td>...</td>\n",
              "      <td>...</td>\n",
              "      <td>...</td>\n",
              "      <td>...</td>\n",
              "      <td>...</td>\n",
              "      <td>...</td>\n",
              "      <td>...</td>\n",
              "      <td>...</td>\n",
              "      <td>...</td>\n",
              "      <td>...</td>\n",
              "      <td>...</td>\n",
              "      <td>...</td>\n",
              "      <td>...</td>\n",
              "      <td>...</td>\n",
              "      <td>...</td>\n",
              "      <td>...</td>\n",
              "      <td>...</td>\n",
              "    </tr>\n",
              "    <tr>\n",
              "      <th>2996</th>\n",
              "      <td>130</td>\n",
              "      <td>25.176923</td>\n",
              "      <td>25.869231</td>\n",
              "      <td>1.528661</td>\n",
              "      <td>1.149253</td>\n",
              "      <td>0.853333</td>\n",
              "      <td>0.986214</td>\n",
              "      <td>1.148580</td>\n",
              "      <td>0.960381</td>\n",
              "      <td>1.139258</td>\n",
              "      <td>...</td>\n",
              "      <td>0.315789</td>\n",
              "      <td>1.055482</td>\n",
              "      <td>0.946116</td>\n",
              "      <td>1.006551</td>\n",
              "      <td>1.275433</td>\n",
              "      <td>0.651822</td>\n",
              "      <td>1.208333</td>\n",
              "      <td>0.856862</td>\n",
              "      <td>1.166763</td>\n",
              "      <td>1.142641</td>\n",
              "    </tr>\n",
              "    <tr>\n",
              "      <th>2997</th>\n",
              "      <td>130</td>\n",
              "      <td>25.176923</td>\n",
              "      <td>25.869231</td>\n",
              "      <td>1.502932</td>\n",
              "      <td>1.245718</td>\n",
              "      <td>1.003671</td>\n",
              "      <td>0.888395</td>\n",
              "      <td>1.101820</td>\n",
              "      <td>0.960381</td>\n",
              "      <td>1.139258</td>\n",
              "      <td>...</td>\n",
              "      <td>0.591228</td>\n",
              "      <td>1.055482</td>\n",
              "      <td>0.946116</td>\n",
              "      <td>1.066782</td>\n",
              "      <td>1.117865</td>\n",
              "      <td>0.651822</td>\n",
              "      <td>1.208333</td>\n",
              "      <td>0.856862</td>\n",
              "      <td>1.246782</td>\n",
              "      <td>1.067447</td>\n",
              "    </tr>\n",
              "    <tr>\n",
              "      <th>2998</th>\n",
              "      <td>130</td>\n",
              "      <td>25.176923</td>\n",
              "      <td>25.869231</td>\n",
              "      <td>1.502932</td>\n",
              "      <td>1.182148</td>\n",
              "      <td>1.127754</td>\n",
              "      <td>0.906681</td>\n",
              "      <td>1.132269</td>\n",
              "      <td>0.929643</td>\n",
              "      <td>1.193304</td>\n",
              "      <td>...</td>\n",
              "      <td>0.848698</td>\n",
              "      <td>0.978443</td>\n",
              "      <td>0.889167</td>\n",
              "      <td>1.082087</td>\n",
              "      <td>1.066244</td>\n",
              "      <td>0.858790</td>\n",
              "      <td>1.208333</td>\n",
              "      <td>0.840849</td>\n",
              "      <td>1.198385</td>\n",
              "      <td>0.957649</td>\n",
              "    </tr>\n",
              "    <tr>\n",
              "      <th>2999</th>\n",
              "      <td>130</td>\n",
              "      <td>25.176923</td>\n",
              "      <td>25.869231</td>\n",
              "      <td>1.502932</td>\n",
              "      <td>1.182148</td>\n",
              "      <td>1.127754</td>\n",
              "      <td>0.888395</td>\n",
              "      <td>1.102653</td>\n",
              "      <td>0.959714</td>\n",
              "      <td>1.193304</td>\n",
              "      <td>...</td>\n",
              "      <td>0.848698</td>\n",
              "      <td>0.929421</td>\n",
              "      <td>0.928482</td>\n",
              "      <td>1.151106</td>\n",
              "      <td>1.066244</td>\n",
              "      <td>1.117133</td>\n",
              "      <td>0.775219</td>\n",
              "      <td>0.840849</td>\n",
              "      <td>1.198385</td>\n",
              "      <td>0.957649</td>\n",
              "    </tr>\n",
              "    <tr>\n",
              "      <th>3000</th>\n",
              "      <td>130</td>\n",
              "      <td>25.176923</td>\n",
              "      <td>25.869231</td>\n",
              "      <td>1.528661</td>\n",
              "      <td>1.149253</td>\n",
              "      <td>1.003671</td>\n",
              "      <td>0.888395</td>\n",
              "      <td>1.098123</td>\n",
              "      <td>0.929643</td>\n",
              "      <td>1.052985</td>\n",
              "      <td>...</td>\n",
              "      <td>0.848698</td>\n",
              "      <td>0.978443</td>\n",
              "      <td>0.895957</td>\n",
              "      <td>1.151106</td>\n",
              "      <td>1.066244</td>\n",
              "      <td>0.858790</td>\n",
              "      <td>1.208333</td>\n",
              "      <td>0.840849</td>\n",
              "      <td>1.150417</td>\n",
              "      <td>1.053140</td>\n",
              "    </tr>\n",
              "  </tbody>\n",
              "</table>\n",
              "<p>3001 rows × 33 columns</p>\n",
              "</div>\n",
              "      <button class=\"colab-df-convert\" onclick=\"convertToInteractive('df-ee86e7ad-bdf3-4ea8-bdcb-5625eceb40db')\"\n",
              "              title=\"Convert this dataframe to an interactive table.\"\n",
              "              style=\"display:none;\">\n",
              "        \n",
              "  <svg xmlns=\"http://www.w3.org/2000/svg\" height=\"24px\"viewBox=\"0 0 24 24\"\n",
              "       width=\"24px\">\n",
              "    <path d=\"M0 0h24v24H0V0z\" fill=\"none\"/>\n",
              "    <path d=\"M18.56 5.44l.94 2.06.94-2.06 2.06-.94-2.06-.94-.94-2.06-.94 2.06-2.06.94zm-11 1L8.5 8.5l.94-2.06 2.06-.94-2.06-.94L8.5 2.5l-.94 2.06-2.06.94zm10 10l.94 2.06.94-2.06 2.06-.94-2.06-.94-.94-2.06-.94 2.06-2.06.94z\"/><path d=\"M17.41 7.96l-1.37-1.37c-.4-.4-.92-.59-1.43-.59-.52 0-1.04.2-1.43.59L10.3 9.45l-7.72 7.72c-.78.78-.78 2.05 0 2.83L4 21.41c.39.39.9.59 1.41.59.51 0 1.02-.2 1.41-.59l7.78-7.78 2.81-2.81c.8-.78.8-2.07 0-2.86zM5.41 20L4 18.59l7.72-7.72 1.47 1.35L5.41 20z\"/>\n",
              "  </svg>\n",
              "      </button>\n",
              "      \n",
              "  <style>\n",
              "    .colab-df-container {\n",
              "      display:flex;\n",
              "      flex-wrap:wrap;\n",
              "      gap: 12px;\n",
              "    }\n",
              "\n",
              "    .colab-df-convert {\n",
              "      background-color: #E8F0FE;\n",
              "      border: none;\n",
              "      border-radius: 50%;\n",
              "      cursor: pointer;\n",
              "      display: none;\n",
              "      fill: #1967D2;\n",
              "      height: 32px;\n",
              "      padding: 0 0 0 0;\n",
              "      width: 32px;\n",
              "    }\n",
              "\n",
              "    .colab-df-convert:hover {\n",
              "      background-color: #E2EBFA;\n",
              "      box-shadow: 0px 1px 2px rgba(60, 64, 67, 0.3), 0px 1px 3px 1px rgba(60, 64, 67, 0.15);\n",
              "      fill: #174EA6;\n",
              "    }\n",
              "\n",
              "    [theme=dark] .colab-df-convert {\n",
              "      background-color: #3B4455;\n",
              "      fill: #D2E3FC;\n",
              "    }\n",
              "\n",
              "    [theme=dark] .colab-df-convert:hover {\n",
              "      background-color: #434B5C;\n",
              "      box-shadow: 0px 1px 3px 1px rgba(0, 0, 0, 0.15);\n",
              "      filter: drop-shadow(0px 1px 2px rgba(0, 0, 0, 0.3));\n",
              "      fill: #FFFFFF;\n",
              "    }\n",
              "  </style>\n",
              "\n",
              "      <script>\n",
              "        const buttonEl =\n",
              "          document.querySelector('#df-ee86e7ad-bdf3-4ea8-bdcb-5625eceb40db button.colab-df-convert');\n",
              "        buttonEl.style.display =\n",
              "          google.colab.kernel.accessAllowed ? 'block' : 'none';\n",
              "\n",
              "        async function convertToInteractive(key) {\n",
              "          const element = document.querySelector('#df-ee86e7ad-bdf3-4ea8-bdcb-5625eceb40db');\n",
              "          const dataTable =\n",
              "            await google.colab.kernel.invokeFunction('convertToInteractive',\n",
              "                                                     [key], {});\n",
              "          if (!dataTable) return;\n",
              "\n",
              "          const docLinkHtml = 'Like what you see? Visit the ' +\n",
              "            '<a target=\"_blank\" href=https://colab.research.google.com/notebooks/data_table.ipynb>data table notebook</a>'\n",
              "            + ' to learn more about interactive tables.';\n",
              "          element.innerHTML = '';\n",
              "          dataTable['output_type'] = 'display_data';\n",
              "          await google.colab.output.renderOutput(dataTable, element);\n",
              "          const docLink = document.createElement('div');\n",
              "          docLink.innerHTML = docLinkHtml;\n",
              "          element.appendChild(docLink);\n",
              "        }\n",
              "      </script>\n",
              "    </div>\n",
              "  </div>\n",
              "  "
            ]
          },
          "metadata": {},
          "execution_count": 12
        }
      ]
    },
    {
      "cell_type": "markdown",
      "metadata": {
        "id": "jEQpDe7tsUO4"
      },
      "source": [
        "# Plotting"
      ]
    },
    {
      "cell_type": "code",
      "execution_count": null,
      "metadata": {
        "colab": {
          "base_uri": "https://localhost:8080/",
          "height": 296
        },
        "id": "3sYjJsgSo_jo",
        "outputId": "82fd1462-5ad7-4c37-93c2-fa0c47343172"
      },
      "outputs": [
        {
          "output_type": "execute_result",
          "data": {
            "text/plain": [
              "Text(0, 0.5, 'cell number')"
            ]
          },
          "metadata": {},
          "execution_count": 13
        },
        {
          "output_type": "display_data",
          "data": {
            "text/plain": [
              "<Figure size 432x288 with 1 Axes>"
            ],
            "image/png": "[encoded data removed]"
          },
          "metadata": {
            "needs_background": "light"
          }
        }
      ],
      "source": [
        "t = results.variables.CellsModel.index\n",
        "plt.plot(t,results.variables.CellsModel[\"N\"])\n",
        "plt.xlabel(\"t\")\n",
        "plt.ylabel(\"cell number\")"
      ]
    },
    {
      "cell_type": "code",
      "execution_count": null,
      "metadata": {
        "colab": {
          "base_uri": "https://localhost:8080/",
          "height": 296
        },
        "id": "7Mny0GNkmpvy",
        "outputId": "cbc8b0fc-e8f6-47d9-c706-27a0e03c818a"
      },
      "outputs": [
        {
          "output_type": "execute_result",
          "data": {
            "text/plain": [
              "Text(0, 0.5, 'plasmid copy number')"
            ]
          },
          "metadata": {},
          "execution_count": 14
        },
        {
          "output_type": "display_data",
          "data": {
            "text/plain": [
              "<Figure size 432x288 with 1 Axes>"
            ],
            "image/png": "[encoded data removed]"
          },
          "metadata": {
            "needs_background": "light"
          }
        }
      ],
      "source": [
        "plt.plot(t,results.variables.CellsModel[\"P1\"])\n",
        "plt.plot(t,results.variables.CellsModel[\"P2\"])\n",
        "plt.legend([\"P1\",\"P2\"])\n",
        "plt.xlabel(\"t\")\n",
        "plt.ylabel(\"plasmid copy number\")"
      ]
    },
    {
      "cell_type": "code",
      "execution_count": null,
      "metadata": {
        "colab": {
          "base_uri": "https://localhost:8080/",
          "height": 316
        },
        "id": "gpgmXj-No9zP",
        "outputId": "bd5ba5bc-ff13-4c7a-9016-1d9b3c6dc4bc"
      },
      "outputs": [
        {
          "output_type": "execute_result",
          "data": {
            "text/plain": [
              "Text(0, 0.5, 'mean P2:P1 ratio')"
            ]
          },
          "metadata": {},
          "execution_count": 15
        },
        {
          "output_type": "display_data",
          "data": {
            "text/plain": [
              "<Figure size 432x288 with 1 Axes>"
            ],
            "image/png": "[encoded data removed]"
          },
          "metadata": {
            "needs_background": "light"
          }
        }
      ],
      "source": [
        "t=3000\n",
        "xs=[(i+0.5)*bin_width for i in range(int(space_shape[0]/bin_width))]\n",
        "ys=[results.variables.CellsModel[f\"P2P1ratio_bin{i}\"][t] for i in range(int(space_shape[0]/bin_width))]\n",
        "plt.plot(xs,ys)\n",
        "plt.title(f\"t={t}\")\n",
        "plt.xlabel(\"$x$ position\")\n",
        "plt.ylabel(\"mean P2:P1 ratio\")"
      ]
    },
    {
      "cell_type": "markdown",
      "metadata": {
        "id": "MQhIdvw6sWum"
      },
      "source": [
        "# Running and animating"
      ]
    },
    {
      "cell_type": "code",
      "execution_count": null,
      "metadata": {
        "id": "KiZtrt_lAGla"
      },
      "outputs": [],
      "source": [
        "matplotlib.rcParams['animation.embed_limit'] = 2**128 # allow large animations to be displayed"
      ]
    },
    {
      "cell_type": "code",
      "execution_count": null,
      "metadata": {
        "id": "DT1X-e7XBJrB"
      },
      "outputs": [],
      "source": [
        "def animation_plot_single(m,ax):\n",
        "    pos = m.space.positions.values() or [0,0]\n",
        "    colours = m.agents.colour\n",
        "    pos = np.array(list(pos)).T  # transform to list of x and y coords\n",
        "    ax.set_aspect('equal')\n",
        "    ax.scatter(*pos,s=1,c=colours)\n",
        "    ax.set_title(f\"t={m.t}\")\n",
        "\n",
        "def animation_plot(m,p,seed=None):\n",
        "    fig = plt.figure()\n",
        "    ax = fig.add_subplot(111)\n",
        "    animation = ap.animate(m(p),fig,ax,animation_plot_single,seed=seed)\n",
        "    return animation"
      ]
    },
    {
      "cell_type": "code",
      "execution_count": null,
      "metadata": {
        "id": "83_olCp20n_Z"
      },
      "outputs": [],
      "source": [
        "params[\"colour_mode\"]=\"plasmids\"\n",
        "params[\"steps\"]=3010\n",
        "animation = animation_plot(CellsModel,params,seed=seed)"
      ]
    },
    {
      "cell_type": "code",
      "source": [
        "animation.save(\"agent based.mp4\",dpi=400)"
      ],
      "metadata": {
        "id": "OjB3xt5Opk-s"
      },
      "execution_count": null,
      "outputs": []
    },
    {
      "cell_type": "code",
      "source": [
        "IPython.display.HTML(animation.to_jshtml(fps=20))"
      ],
      "metadata": {
        "id": "xHVwWPxTe_fF"
      },
      "execution_count": null,
      "outputs": []
    },
    {
      "cell_type": "code",
      "source": [
        "params[\"colour_mode\"]=\"lineage_tracing\"\n",
        "animation2 = animation_plot(CellsModel,params,seed=seed)\n",
        "IPython.display.HTML(animation2.to_jshtml(fps=20))"
      ],
      "metadata": {
        "id": "YpS2Jp5qN1pS"
      },
      "execution_count": null,
      "outputs": []
    },
    {
      "cell_type": "code",
      "source": [
        "animation2.save(\"lineage_trace.mp4\")"
      ],
      "metadata": {
        "id": "AYxidUz1v2F_"
      },
      "execution_count": null,
      "outputs": []
    },
    {
      "cell_type": "code",
      "source": [
        "IPython.display.HTML(animation2.to_jshtml(fps=20))"
      ],
      "metadata": {
        "id": "TNnOWlshe-SZ"
      },
      "execution_count": null,
      "outputs": []
    },
    {
      "cell_type": "code",
      "execution_count": null,
      "metadata": {
        "id": "eakjEnXQUP1x"
      },
      "outputs": [],
      "source": [
        "params[\"colour_mode\"]=\"plasmids\"\n",
        "animation_plot(CellsModel,params)"
      ]
    }
  ],
  "metadata": {
    "colab": {
      "provenance": [],
      "collapsed_sections": [
        "_gv5fGC4r3ou",
        "_zOKTNTTNfZh"
      ],
      "history_visible": true
    },
    "kernelspec": {
      "display_name": "Python 3 (ipykernel)",
      "language": "python",
      "name": "python3"
    },
    "language_info": {
      "codemirror_mode": {
        "name": "ipython",
        "version": 3
      },
      "file_extension": ".py",
      "mimetype": "text/x-python",
      "name": "python",
      "nbconvert_exporter": "python",
      "pygments_lexer": "ipython3",
      "version": "3.10.5"
    }
  },
  "nbformat": 4,
  "nbformat_minor": 0
}